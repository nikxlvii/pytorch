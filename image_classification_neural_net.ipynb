{
  "nbformat": 4,
  "nbformat_minor": 0,
  "metadata": {
    "colab": {
      "provenance": [],
      "authorship_tag": "ABX9TyN+XH/T2VqeWkFgaiGNPA96",
      "include_colab_link": true
    },
    "kernelspec": {
      "name": "python3",
      "display_name": "Python 3"
    },
    "language_info": {
      "name": "python"
    }
  },
  "cells": [
    {
      "cell_type": "markdown",
      "metadata": {
        "id": "view-in-github",
        "colab_type": "text"
      },
      "source": [
        "<a href=\"https://colab.research.google.com/github/nikxlvii/pytorch/blob/main/image_classification_neural_net.ipynb\" target=\"_parent\"><img src=\"https://colab.research.google.com/assets/colab-badge.svg\" alt=\"Open In Colab\"/></a>"
      ]
    },
    {
      "cell_type": "code",
      "execution_count": 61,
      "metadata": {
        "colab": {
          "base_uri": "https://localhost:8080/"
        },
        "id": "aFRQzWkh3E9Z",
        "outputId": "5f442366-dc64-43db-d360-5e35d61f1b14"
      },
      "outputs": [
        {
          "output_type": "stream",
          "name": "stdout",
          "text": [
            "Files already downloaded and verified\n",
            "Files already downloaded and verified\n"
          ]
        }
      ],
      "source": [
        "from torchvision import datasets\n",
        "\n",
        "cifar10 = datasets.CIFAR10(root='./data',train = True,download= True)\n",
        "cifar10_val = datasets.CIFAR10(root='./data',train = False, download = True)"
      ]
    },
    {
      "cell_type": "code",
      "source": [
        "import matplotlib.pyplot as plt\n",
        "\n",
        "img,label = cifar10[99]\n",
        "plt.imshow(img)"
      ],
      "metadata": {
        "colab": {
          "base_uri": "https://localhost:8080/",
          "height": 447
        },
        "id": "IggzLGbY4eeL",
        "outputId": "4286e1f6-fb75-4b1b-be29-5a62ed5cc77e"
      },
      "execution_count": 62,
      "outputs": [
        {
          "output_type": "execute_result",
          "data": {
            "text/plain": [
              "<matplotlib.image.AxesImage at 0x7e497bc00340>"
            ]
          },
          "metadata": {},
          "execution_count": 62
        },
        {
          "output_type": "display_data",
          "data": {
            "text/plain": [
              "<Figure size 640x480 with 1 Axes>"
            ],
            "image/png": "[encoded data removed]"
          },
          "metadata": {}
        }
      ]
    },
    {
      "cell_type": "code",
      "source": [
        "# we need to convert this rgb pil image to a pytorch tensor for anything to work out at all."
      ],
      "metadata": {
        "id": "4P8Yr1sg59-T"
      },
      "execution_count": 63,
      "outputs": []
    },
    {
      "cell_type": "code",
      "source": [
        "from torchvision import transforms\n",
        "\n",
        "dir(transforms)"
      ],
      "metadata": {
        "colab": {
          "base_uri": "https://localhost:8080/"
        },
        "id": "JmSL2Hzl6dQ9",
        "outputId": "a0040d00-139f-4953-ff13-69a14cffc0f3"
      },
      "execution_count": 64,
      "outputs": [
        {
          "output_type": "execute_result",
          "data": {
            "text/plain": [
              "['AugMix',\n",
              " 'AutoAugment',\n",
              " 'AutoAugmentPolicy',\n",
              " 'CenterCrop',\n",
              " 'ColorJitter',\n",
              " 'Compose',\n",
              " 'ConvertImageDtype',\n",
              " 'ElasticTransform',\n",
              " 'FiveCrop',\n",
              " 'GaussianBlur',\n",
              " 'Grayscale',\n",
              " 'InterpolationMode',\n",
              " 'Lambda',\n",
              " 'LinearTransformation',\n",
              " 'Normalize',\n",
              " 'PILToTensor',\n",
              " 'Pad',\n",
              " 'RandAugment',\n",
              " 'RandomAdjustSharpness',\n",
              " 'RandomAffine',\n",
              " 'RandomApply',\n",
              " 'RandomAutocontrast',\n",
              " 'RandomChoice',\n",
              " 'RandomCrop',\n",
              " 'RandomEqualize',\n",
              " 'RandomErasing',\n",
              " 'RandomGrayscale',\n",
              " 'RandomHorizontalFlip',\n",
              " 'RandomInvert',\n",
              " 'RandomOrder',\n",
              " 'RandomPerspective',\n",
              " 'RandomPosterize',\n",
              " 'RandomResizedCrop',\n",
              " 'RandomRotation',\n",
              " 'RandomSolarize',\n",
              " 'RandomVerticalFlip',\n",
              " 'Resize',\n",
              " 'TenCrop',\n",
              " 'ToPILImage',\n",
              " 'ToTensor',\n",
              " 'TrivialAugmentWide',\n",
              " '__builtins__',\n",
              " '__cached__',\n",
              " '__doc__',\n",
              " '__file__',\n",
              " '__loader__',\n",
              " '__name__',\n",
              " '__package__',\n",
              " '__path__',\n",
              " '__spec__',\n",
              " '_functional_pil',\n",
              " '_functional_tensor',\n",
              " '_presets',\n",
              " 'autoaugment',\n",
              " 'functional',\n",
              " 'transforms']"
            ]
          },
          "metadata": {},
          "execution_count": 64
        }
      ]
    },
    {
      "cell_type": "code",
      "source": [
        "to_tensor = transforms.ToTensor()\n",
        "img_t = to_tensor(img)\n",
        "img_t.shape"
      ],
      "metadata": {
        "colab": {
          "base_uri": "https://localhost:8080/"
        },
        "id": "1z-ApS7N7RiO",
        "outputId": "c9a848f5-b632-44db-9c00-89ff7df16c40"
      },
      "execution_count": 65,
      "outputs": [
        {
          "output_type": "execute_result",
          "data": {
            "text/plain": [
              "torch.Size([3, 32, 32])"
            ]
          },
          "metadata": {},
          "execution_count": 65
        }
      ]
    },
    {
      "cell_type": "markdown",
      "source": [
        "It is possible to apply the transform while importing CIFAR10:\n",
        "\n",
        "tensor_cifar10 = datasets.CIFAR10(data_path, train=True, download=False,transform=transforms.ToTensor())\n",
        "\n",
        "Note: we have to use permute to change the order of the axes from\n",
        "C × H × W to H × W × C to match what Matplotlib expects."
      ],
      "metadata": {
        "id": "8B7D99mi-Kg6"
      }
    },
    {
      "cell_type": "code",
      "source": [
        "tensor_cifar10 = datasets.CIFAR10(root = './data', train=True, download=False,transform=transforms.ToTensor())"
      ],
      "metadata": {
        "id": "T2Hzh0-m_rG6"
      },
      "execution_count": 66,
      "outputs": []
    },
    {
      "cell_type": "code",
      "source": [
        "# it's good practice to normalize the dataset so that each channel has zero mean and unitary standard deviation.\n",
        "import torch\n",
        "\n",
        "imgs = torch.stack([img_t for img_t, _ in tensor_cifar10],dim=3)"
      ],
      "metadata": {
        "id": "nGGZDfLy7t79"
      },
      "execution_count": 67,
      "outputs": []
    },
    {
      "cell_type": "code",
      "source": [
        "imgs.shape"
      ],
      "metadata": {
        "colab": {
          "base_uri": "https://localhost:8080/"
        },
        "id": "je8-FOQW_uh5",
        "outputId": "329426a3-1ded-4301-b55c-106c0122df45"
      },
      "execution_count": 68,
      "outputs": [
        {
          "output_type": "execute_result",
          "data": {
            "text/plain": [
              "torch.Size([3, 32, 32, 50000])"
            ]
          },
          "metadata": {},
          "execution_count": 68
        }
      ]
    },
    {
      "cell_type": "code",
      "source": [
        "imgs.view(3, -1).mean(dim=1)"
      ],
      "metadata": {
        "colab": {
          "base_uri": "https://localhost:8080/"
        },
        "id": "ugilf3TNABGh",
        "outputId": "0ff7f909-0728-42d9-9a4a-7c824f2ac237"
      },
      "execution_count": 69,
      "outputs": [
        {
          "output_type": "execute_result",
          "data": {
            "text/plain": [
              "tensor([0.4914, 0.4822, 0.4465])"
            ]
          },
          "metadata": {},
          "execution_count": 69
        }
      ]
    },
    {
      "cell_type": "code",
      "source": [
        "imgs.view(3, -1).std(dim=1)"
      ],
      "metadata": {
        "colab": {
          "base_uri": "https://localhost:8080/"
        },
        "id": "qVh2VNiEAKv0",
        "outputId": "b03ff5df-c7fe-4a73-dd96-cc4679f6faa3"
      },
      "execution_count": 70,
      "outputs": [
        {
          "output_type": "execute_result",
          "data": {
            "text/plain": [
              "tensor([0.2470, 0.2435, 0.2616])"
            ]
          },
          "metadata": {},
          "execution_count": 70
        }
      ]
    },
    {
      "cell_type": "code",
      "source": [
        "transforms.Normalize((0.4914, 0.4822, 0.4465),(0.2470, 0.2435, 0.2616))"
      ],
      "metadata": {
        "colab": {
          "base_uri": "https://localhost:8080/"
        },
        "id": "N-eCY2sOAdsX",
        "outputId": "fc802eec-5368-448d-91c1-fd95ce6abf4a"
      },
      "execution_count": 71,
      "outputs": [
        {
          "output_type": "execute_result",
          "data": {
            "text/plain": [
              "Normalize(mean=(0.4914, 0.4822, 0.4465), std=(0.247, 0.2435, 0.2616))"
            ]
          },
          "metadata": {},
          "execution_count": 71
        }
      ]
    },
    {
      "cell_type": "code",
      "source": [
        "transformed_cifar10 = datasets.CIFAR10(root='./data',train=True,download = False,\n",
        "                                       transform = transforms.Compose([transforms.ToTensor(),transforms.Normalize(mean=(0.4914, 0.4822, 0.4465), std=(0.247, 0.2435, 0.2616))]))\n",
        "transformed_cifar10_val = datasets.CIFAR10(root='./data',train=False,download = False,\n",
        "                                       transform = transforms.Compose([transforms.ToTensor(),transforms.Normalize(mean=(0.4914, 0.4822, 0.4465), std=(0.247, 0.2435, 0.2616))]))"
      ],
      "metadata": {
        "id": "Kj-OAd8YBCHP"
      },
      "execution_count": 72,
      "outputs": []
    },
    {
      "cell_type": "code",
      "source": [
        "img_t,_= transformed_cifar10[99]\n",
        "plt.imshow(img_t.permute(1,2,0))"
      ],
      "metadata": {
        "colab": {
          "base_uri": "https://localhost:8080/",
          "height": 465
        },
        "id": "4IW0BuQsBc1o",
        "outputId": "2f6bcc83-8b48-45b9-caa7-b12b1c917217"
      },
      "execution_count": 73,
      "outputs": [
        {
          "output_type": "stream",
          "name": "stderr",
          "text": [
            "WARNING:matplotlib.image:Clipping input data to the valid range for imshow with RGB data ([0..1] for floats or [0..255] for integers).\n"
          ]
        },
        {
          "output_type": "execute_result",
          "data": {
            "text/plain": [
              "<matplotlib.image.AxesImage at 0x7e497bc61d50>"
            ]
          },
          "metadata": {},
          "execution_count": 73
        },
        {
          "output_type": "display_data",
          "data": {
            "text/plain": [
              "<Figure size 640x480 with 1 Axes>"
            ],
            "image/png": "[encoded data removed]"
          },
          "metadata": {}
        }
      ]
    },
    {
      "cell_type": "markdown",
      "source": [
        "Now the task here is to classify birds and aeroplanes from each other using a neural network. We'll pick out all the birds and airplanes from our\n",
        "CIFAR-10 dataset and build a neural network that can tell birds and airplanes apart."
      ],
      "metadata": {
        "id": "peR9dS0pCtp7"
      }
    },
    {
      "cell_type": "code",
      "source": [
        "# building a dataset of only birds and aeroplanes\n",
        "\n",
        "label_map = {0:0,2:1}\n",
        "class_names = ['airplane','bird']\n",
        "\n",
        "cifar2 = [(img,label_map[label]) for img, label in transformed_cifar10 if label in [0,2]]\n",
        "\n",
        "cifar2_val = [(img,label_map[label]) for img, label in transformed_cifar10_val if label in [0,2]]"
      ],
      "metadata": {
        "id": "EDS5_kI-C3Ih"
      },
      "execution_count": 74,
      "outputs": []
    },
    {
      "cell_type": "code",
      "source": [
        "len(cifar2)"
      ],
      "metadata": {
        "colab": {
          "base_uri": "https://localhost:8080/"
        },
        "id": "1C2vIjkvEUsg",
        "outputId": "20952b71-2b59-4cb8-8aff-2e970ee114f1"
      },
      "execution_count": 75,
      "outputs": [
        {
          "output_type": "execute_result",
          "data": {
            "text/plain": [
              "10000"
            ]
          },
          "metadata": {},
          "execution_count": 75
        }
      ]
    },
    {
      "cell_type": "code",
      "source": [
        "len(cifar2_val)"
      ],
      "metadata": {
        "colab": {
          "base_uri": "https://localhost:8080/"
        },
        "id": "zpx5KHQSEcCo",
        "outputId": "50ee2749-8b91-4f10-95b3-e479aa5380ec"
      },
      "execution_count": 76,
      "outputs": [
        {
          "output_type": "execute_result",
          "data": {
            "text/plain": [
              "2000"
            ]
          },
          "metadata": {},
          "execution_count": 76
        }
      ]
    },
    {
      "cell_type": "code",
      "source": [
        "import torch.nn as nn\n",
        "\n",
        "n_out = 2\n",
        "\n",
        "model = nn.Sequential(\n",
        "    nn.Linear(\n",
        "        3072,\n",
        "        512,\n",
        "    ),\n",
        "    nn.Tanh(),\n",
        "    nn.Linear(\n",
        "        512,\n",
        "        n_out,\n",
        "    )\n",
        ")"
      ],
      "metadata": {
        "id": "xKAmQDGcEkeY"
      },
      "execution_count": 77,
      "outputs": []
    },
    {
      "cell_type": "markdown",
      "source": [
        " In the ideal case, the network would output torch.tensor([1.0, 0.0]) for an airplane and torch.tensor([0.0, 1.0]) for a bird. Practically speaking, since our classifier will not be perfect, we can expect the network to output something in between.\n",
        "\n",
        "Casting the problem in terms of probabilities imposes a few extra constraints on\n",
        "the outputs of our network:\n",
        "1. Each element of the output must be in the [0.0, 1.0] range (a probability of\n",
        "an outcome cannot be less than 0 or greater than 1).\n",
        "2. The elements of the output must add up to 1.0 (we’re certain that one of the\n",
        "two outcomes will occur)\n",
        "\n",
        "Softmax is a function that takes a vector of values and produces another vector of the\n",
        "same dimension, where the values satisfy the constraints we just listed to represent\n",
        "probabilities\n",
        "\n",
        "def softmax(x):\n",
        "return torch.exp(x) / torch.exp(x).sum()\n",
        "\n",
        "\n"
      ],
      "metadata": {
        "id": "m60f6IWORMnS"
      }
    },
    {
      "cell_type": "code",
      "source": [
        "softmax = nn.Softmax(dim=1)\n",
        "\n",
        "x = torch.tensor([[1.0, 2.0, 3.0],[1.0, 2.0, 3.0]])\n",
        "\n",
        "softmax(x)"
      ],
      "metadata": {
        "colab": {
          "base_uri": "https://localhost:8080/"
        },
        "id": "hJ1iKqAVOZ1l",
        "outputId": "cc4a8ffd-3cb5-46df-cb47-d212d545ec70"
      },
      "execution_count": 78,
      "outputs": [
        {
          "output_type": "execute_result",
          "data": {
            "text/plain": [
              "tensor([[0.0900, 0.2447, 0.6652],\n",
              "        [0.0900, 0.2447, 0.6652]])"
            ]
          },
          "metadata": {},
          "execution_count": 78
        }
      ]
    },
    {
      "cell_type": "code",
      "source": [
        "model = nn.Sequential(\n",
        "    nn.Linear(\n",
        "        3072,\n",
        "        512\n",
        "        ),\n",
        "    nn.Tanh(),\n",
        "    nn.Linear(\n",
        "        512,\n",
        "        2\n",
        "        ),\n",
        "    nn.Softmax(dim=1))\n"
      ],
      "metadata": {
        "id": "VHXgdQaDR-Rp"
      },
      "execution_count": 79,
      "outputs": []
    },
    {
      "cell_type": "markdown",
      "source": [
        "The loss for classification should be focused on maximisng the probability associated with the correct class rather than just classifying it as an extreme.\n",
        "\n",
        "Likelihood -> probability associated with the correct class. We need a loss function for this which is low when the likelihood is high and vice versa.\n",
        "\n",
        "We can use Negative Loss Likelihood for this purpose (nn.LogSoftmax)\n"
      ],
      "metadata": {
        "id": "Iw-n7aakfoJW"
      }
    },
    {
      "cell_type": "code",
      "source": [
        "# Training loop\n",
        "\n",
        "model = nn.Sequential(\n",
        "    nn.Linear(\n",
        "        3072,\n",
        "        512\n",
        "    ),\n",
        "    nn.Tanh(),\n",
        "    nn.Linear(\n",
        "        512,\n",
        "        2\n",
        "    ),\n",
        ")"
      ],
      "metadata": {
        "id": "rFMjwuPBgFrH"
      },
      "execution_count": 86,
      "outputs": []
    },
    {
      "cell_type": "code",
      "source": [
        "'''learning_rate = 1e-2\n",
        "optimizer = torch.optim.SGD(model.parameters(),lr = learning_rate)\n",
        "loss_fn = nn.NLLLoss()\n",
        "n_epochs = 100\n",
        "\n",
        "for epoch in range(n_epochs):\n",
        "  for img, label in cifar2:\n",
        "    out = model(img.view(-1).unsqueeze(0))\n",
        "    loss = loss_fn(out,torch.tensor([label]))\n",
        "\n",
        "    optimizer.zero_grad()\n",
        "    loss.backward()\n",
        "    optimizer.step()\n",
        "\n",
        "  print(\"Epoch: %d, Loss: %f\" % (epoch,float(loss)))'''"
      ],
      "metadata": {
        "colab": {
          "base_uri": "https://localhost:8080/"
        },
        "id": "_BuLfx5TnhXP",
        "outputId": "37173e7f-f127-4dc2-cd59-e754fd82a6d2"
      },
      "execution_count": 82,
      "outputs": [
        {
          "output_type": "stream",
          "name": "stdout",
          "text": [
            "Epoch: 0, Loss: 5.918805\n",
            "Epoch: 1, Loss: 6.291989\n",
            "Epoch: 2, Loss: 8.266155\n",
            "Epoch: 3, Loss: 5.282135\n",
            "Epoch: 4, Loss: 4.994164\n",
            "Epoch: 5, Loss: 8.483817\n",
            "Epoch: 6, Loss: 6.359744\n",
            "Epoch: 7, Loss: 8.620050\n",
            "Epoch: 8, Loss: 7.515285\n",
            "Epoch: 9, Loss: 5.336675\n",
            "Epoch: 10, Loss: 11.000975\n",
            "Epoch: 11, Loss: 9.643549\n",
            "Epoch: 12, Loss: 6.647949\n",
            "Epoch: 13, Loss: 3.878528\n",
            "Epoch: 14, Loss: 10.087496\n",
            "Epoch: 15, Loss: 11.589214\n",
            "Epoch: 16, Loss: 15.780916\n",
            "Epoch: 17, Loss: 12.470791\n",
            "Epoch: 18, Loss: 18.333778\n",
            "Epoch: 19, Loss: 1.219351\n",
            "Epoch: 20, Loss: 2.952076\n",
            "Epoch: 21, Loss: 6.308174\n",
            "Epoch: 22, Loss: 12.278921\n",
            "Epoch: 23, Loss: 11.677961\n",
            "Epoch: 24, Loss: 14.546442\n",
            "Epoch: 25, Loss: 10.377435\n",
            "Epoch: 26, Loss: 11.520863\n",
            "Epoch: 27, Loss: 6.674555\n",
            "Epoch: 28, Loss: 7.733933\n",
            "Epoch: 29, Loss: 13.525414\n",
            "Epoch: 30, Loss: 9.368924\n",
            "Epoch: 31, Loss: 5.771591\n",
            "Epoch: 32, Loss: 9.633914\n",
            "Epoch: 33, Loss: 13.368301\n",
            "Epoch: 34, Loss: 10.693480\n",
            "Epoch: 35, Loss: 11.506741\n",
            "Epoch: 36, Loss: 0.046556\n",
            "Epoch: 37, Loss: 5.036661\n",
            "Epoch: 38, Loss: 1.084819\n",
            "Epoch: 39, Loss: 6.058396\n",
            "Epoch: 40, Loss: 0.282003\n",
            "Epoch: 41, Loss: 1.647064\n",
            "Epoch: 42, Loss: 5.962132\n",
            "Epoch: 43, Loss: 5.068727\n",
            "Epoch: 44, Loss: 4.076501\n",
            "Epoch: 45, Loss: 1.392532\n",
            "Epoch: 46, Loss: 5.413878\n",
            "Epoch: 47, Loss: 15.322018\n",
            "Epoch: 48, Loss: 11.344620\n",
            "Epoch: 49, Loss: 2.671453\n",
            "Epoch: 50, Loss: 10.079860\n",
            "Epoch: 51, Loss: 17.944214\n",
            "Epoch: 52, Loss: 5.441543\n",
            "Epoch: 53, Loss: 8.841280\n",
            "Epoch: 54, Loss: 7.908325\n",
            "Epoch: 55, Loss: 12.339602\n",
            "Epoch: 56, Loss: 12.316927\n",
            "Epoch: 57, Loss: 14.697235\n",
            "Epoch: 58, Loss: 12.767823\n",
            "Epoch: 59, Loss: 13.537005\n",
            "Epoch: 60, Loss: 13.926321\n",
            "Epoch: 61, Loss: 12.118256\n",
            "Epoch: 62, Loss: 8.389449\n",
            "Epoch: 63, Loss: 19.439686\n",
            "Epoch: 64, Loss: 1.727093\n",
            "Epoch: 65, Loss: 6.613013\n",
            "Epoch: 66, Loss: 6.169409\n",
            "Epoch: 67, Loss: 3.718995\n",
            "Epoch: 68, Loss: 0.017534\n",
            "Epoch: 69, Loss: 6.889767\n",
            "Epoch: 70, Loss: 10.413708\n",
            "Epoch: 71, Loss: 14.492243\n",
            "Epoch: 72, Loss: 14.606019\n",
            "Epoch: 73, Loss: 13.935674\n",
            "Epoch: 74, Loss: 11.358433\n",
            "Epoch: 75, Loss: 12.056944\n",
            "Epoch: 76, Loss: 16.463192\n",
            "Epoch: 77, Loss: 13.047892\n",
            "Epoch: 78, Loss: 12.480473\n",
            "Epoch: 79, Loss: 20.353882\n",
            "Epoch: 80, Loss: 13.885329\n",
            "Epoch: 81, Loss: 3.797100\n",
            "Epoch: 82, Loss: 10.564458\n",
            "Epoch: 83, Loss: 10.145377\n",
            "Epoch: 84, Loss: 13.163614\n",
            "Epoch: 85, Loss: 21.171980\n",
            "Epoch: 86, Loss: 14.159051\n",
            "Epoch: 87, Loss: 11.427839\n",
            "Epoch: 88, Loss: 9.623008\n",
            "Epoch: 89, Loss: 3.742420\n",
            "Epoch: 90, Loss: 8.126691\n",
            "Epoch: 91, Loss: 11.319717\n",
            "Epoch: 92, Loss: 4.449668\n",
            "Epoch: 93, Loss: 2.179344\n",
            "Epoch: 94, Loss: 0.260465\n",
            "Epoch: 95, Loss: 9.698994\n",
            "Epoch: 96, Loss: 13.334519\n",
            "Epoch: 97, Loss: 4.419799\n",
            "Epoch: 98, Loss: 9.500715\n",
            "Epoch: 99, Loss: 11.647864\n"
          ]
        }
      ]
    },
    {
      "cell_type": "markdown",
      "source": [
        "The torch.utils.data module has a class that helps with shuffling and\n",
        "organizing the data in minibatches: DataLoader. The job of a data loader is to sample\n",
        "minibatches from a dataset, giving us the flexibility to choose from different sampling\n",
        "strategies."
      ],
      "metadata": {
        "id": "NYX47Ils2nTp"
      }
    },
    {
      "cell_type": "code",
      "source": [
        "# New training code which includes Dataloader\n",
        "\n",
        "train_loader = torch.utils.data.DataLoader(cifar2, batch_size=64,shuffle=True)\n",
        "\n",
        "learning_rate = 1e-2\n",
        "optimizer = torch.optim.SGD(model.parameters(),lr = learning_rate)\n",
        "loss_fn = nn.CrossEntropyLoss()\n",
        "n_epochs = 100\n",
        "\n",
        "for epoch in range(n_epochs):\n",
        "  for imgs, labels in train_loader:\n",
        "    batch_size=imgs.shape[0]\n",
        "    outputs = model(imgs.view(batch_size, -1))\n",
        "    loss = loss_fn(outputs, labels)\n",
        "\n",
        "    optimizer.zero_grad()\n",
        "    loss.backward()\n",
        "    optimizer.step()\n",
        "\n",
        "  print(\"Epoch: %d, Loss: %f\" % (epoch,float(loss)))"
      ],
      "metadata": {
        "colab": {
          "base_uri": "https://localhost:8080/"
        },
        "id": "umdM2vJYofef",
        "outputId": "8285e19e-c59c-4b92-f404-0951c6c78728"
      },
      "execution_count": 87,
      "outputs": [
        {
          "output_type": "stream",
          "name": "stdout",
          "text": [
            "Epoch: 0, Loss: 0.459570\n",
            "Epoch: 1, Loss: 0.322957\n",
            "Epoch: 2, Loss: 0.374659\n",
            "Epoch: 3, Loss: 0.304135\n",
            "Epoch: 4, Loss: 0.106098\n",
            "Epoch: 5, Loss: 0.317071\n",
            "Epoch: 6, Loss: 0.551318\n",
            "Epoch: 7, Loss: 0.395194\n",
            "Epoch: 8, Loss: 0.535702\n",
            "Epoch: 9, Loss: 0.543112\n",
            "Epoch: 10, Loss: 0.220699\n",
            "Epoch: 11, Loss: 0.436446\n",
            "Epoch: 12, Loss: 0.122577\n",
            "Epoch: 13, Loss: 0.310596\n",
            "Epoch: 14, Loss: 0.212793\n",
            "Epoch: 15, Loss: 0.237014\n",
            "Epoch: 16, Loss: 0.229860\n",
            "Epoch: 17, Loss: 0.219779\n",
            "Epoch: 18, Loss: 0.400752\n",
            "Epoch: 19, Loss: 0.202713\n",
            "Epoch: 20, Loss: 0.370022\n",
            "Epoch: 21, Loss: 0.291846\n",
            "Epoch: 22, Loss: 0.249747\n",
            "Epoch: 23, Loss: 0.077759\n",
            "Epoch: 24, Loss: 0.156231\n",
            "Epoch: 25, Loss: 0.129402\n",
            "Epoch: 26, Loss: 0.231652\n",
            "Epoch: 27, Loss: 0.219758\n",
            "Epoch: 28, Loss: 0.226065\n",
            "Epoch: 29, Loss: 0.432302\n",
            "Epoch: 30, Loss: 0.193058\n",
            "Epoch: 31, Loss: 0.260616\n",
            "Epoch: 32, Loss: 0.129131\n",
            "Epoch: 33, Loss: 0.130298\n",
            "Epoch: 34, Loss: 0.127095\n",
            "Epoch: 35, Loss: 0.102429\n",
            "Epoch: 36, Loss: 0.359557\n",
            "Epoch: 37, Loss: 0.342772\n",
            "Epoch: 38, Loss: 0.118258\n",
            "Epoch: 39, Loss: 0.099048\n",
            "Epoch: 40, Loss: 0.106313\n",
            "Epoch: 41, Loss: 0.091235\n",
            "Epoch: 42, Loss: 0.327391\n",
            "Epoch: 43, Loss: 0.277324\n",
            "Epoch: 44, Loss: 0.124923\n",
            "Epoch: 45, Loss: 0.149231\n",
            "Epoch: 46, Loss: 0.246142\n",
            "Epoch: 47, Loss: 0.205872\n",
            "Epoch: 48, Loss: 0.043217\n",
            "Epoch: 49, Loss: 0.086835\n",
            "Epoch: 50, Loss: 0.028102\n",
            "Epoch: 51, Loss: 0.020091\n",
            "Epoch: 52, Loss: 0.056645\n",
            "Epoch: 53, Loss: 0.037054\n",
            "Epoch: 54, Loss: 0.165714\n",
            "Epoch: 55, Loss: 0.047656\n",
            "Epoch: 56, Loss: 0.174998\n",
            "Epoch: 57, Loss: 0.034336\n",
            "Epoch: 58, Loss: 0.055462\n",
            "Epoch: 59, Loss: 0.062388\n",
            "Epoch: 60, Loss: 0.061294\n",
            "Epoch: 61, Loss: 0.014393\n",
            "Epoch: 62, Loss: 0.030920\n",
            "Epoch: 63, Loss: 0.054711\n",
            "Epoch: 64, Loss: 0.015337\n",
            "Epoch: 65, Loss: 0.035330\n",
            "Epoch: 66, Loss: 0.010433\n",
            "Epoch: 67, Loss: 0.027240\n",
            "Epoch: 68, Loss: 0.087828\n",
            "Epoch: 69, Loss: 0.081847\n",
            "Epoch: 70, Loss: 0.027605\n",
            "Epoch: 71, Loss: 0.014101\n",
            "Epoch: 72, Loss: 0.029426\n",
            "Epoch: 73, Loss: 0.016727\n",
            "Epoch: 74, Loss: 0.026820\n",
            "Epoch: 75, Loss: 0.008753\n",
            "Epoch: 76, Loss: 0.015100\n",
            "Epoch: 77, Loss: 0.025201\n",
            "Epoch: 78, Loss: 0.005308\n",
            "Epoch: 79, Loss: 0.037511\n",
            "Epoch: 80, Loss: 0.008647\n",
            "Epoch: 81, Loss: 0.024333\n",
            "Epoch: 82, Loss: 0.019233\n",
            "Epoch: 83, Loss: 0.012654\n",
            "Epoch: 84, Loss: 0.044092\n",
            "Epoch: 85, Loss: 0.030871\n",
            "Epoch: 86, Loss: 0.013583\n",
            "Epoch: 87, Loss: 0.011703\n",
            "Epoch: 88, Loss: 0.008238\n",
            "Epoch: 89, Loss: 0.014622\n",
            "Epoch: 90, Loss: 0.015851\n",
            "Epoch: 91, Loss: 0.017310\n",
            "Epoch: 92, Loss: 0.044999\n",
            "Epoch: 93, Loss: 0.006221\n",
            "Epoch: 94, Loss: 0.019759\n",
            "Epoch: 95, Loss: 0.007821\n",
            "Epoch: 96, Loss: 0.018132\n",
            "Epoch: 97, Loss: 0.012610\n",
            "Epoch: 98, Loss: 0.016112\n",
            "Epoch: 99, Loss: 0.063627\n"
          ]
        }
      ]
    },
    {
      "cell_type": "code",
      "source": [
        "val_loader = torch.utils.data.DataLoader(cifar2_val, batch_size=64,shuffle=False)\n",
        "\n",
        "correct = 0\n",
        "total = 0\n",
        "with torch.no_grad():\n",
        "  for imgs, labels in val_loader:\n",
        "    batch_size = imgs.shape[0]\n",
        "    outputs = model(imgs.view(batch_size, -1))\n",
        "    _, predicted = torch.max(outputs, dim=1)\n",
        "    total += labels.shape[0]\n",
        "    correct += int((predicted == labels).sum())\n",
        "  print(\"Accuracy: %f\", correct / total)"
      ],
      "metadata": {
        "colab": {
          "base_uri": "https://localhost:8080/"
        },
        "id": "u0lj2t2u4A4h",
        "outputId": "428fe617-35ad-4a5f-80a7-384c77319d09"
      },
      "execution_count": 88,
      "outputs": [
        {
          "output_type": "stream",
          "name": "stdout",
          "text": [
            "Accuracy: %f 0.802\n"
          ]
        }
      ]
    },
    {
      "cell_type": "markdown",
      "source": [
        "The model is overfitted. We will solve this by using convolutional neural networks."
      ],
      "metadata": {
        "id": "wSrJl8uL9Lgs"
      }
    }
  ]
}