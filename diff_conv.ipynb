{
  "nbformat": 4,
  "nbformat_minor": 0,
  "metadata": {
    "colab": {
      "provenance": [],
      "authorship_tag": "ABX9TyPjZGOjbaLU46Hv7+1V9kS9",
      "include_colab_link": true
    },
    "kernelspec": {
      "name": "python3",
      "display_name": "Python 3"
    },
    "language_info": {
      "name": "python"
    }
  },
  "cells": [
    {
      "cell_type": "markdown",
      "metadata": {
        "id": "view-in-github",
        "colab_type": "text"
      },
      "source": [
        "<a href=\"https://colab.research.google.com/github/nikxlvii/pytorch/blob/main/diff_conv.ipynb\" target=\"_parent\"><img src=\"https://colab.research.google.com/assets/colab-badge.svg\" alt=\"Open In Colab\"/></a>"
      ]
    },
    {
      "cell_type": "code",
      "execution_count": 3,
      "metadata": {
        "id": "1FrvB-_W3Ovr"
      },
      "outputs": [],
      "source": [
        "from torchvision import datasets\n",
        "from torchvision import transforms\n",
        "import torch\n",
        "import torch.nn as nn\n",
        "import matplotlib.pyplot as plt"
      ]
    },
    {
      "cell_type": "code",
      "source": [
        "# importing the dataset\n",
        "cif10 = datasets.CIFAR10(root = './data', train = True, download = True)"
      ],
      "metadata": {
        "colab": {
          "base_uri": "https://localhost:8080/"
        },
        "id": "bpAfvA5m7GF9",
        "outputId": "36313eb3-2acf-4462-da83-a45dad8d820c"
      },
      "execution_count": 4,
      "outputs": [
        {
          "output_type": "stream",
          "name": "stdout",
          "text": [
            "Downloading https://www.cs.toronto.edu/~kriz/cifar-10-python.tar.gz to ./data/cifar-10-python.tar.gz\n"
          ]
        },
        {
          "output_type": "stream",
          "name": "stderr",
          "text": [
            "100%|██████████| 170498071/170498071 [00:01<00:00, 98116850.64it/s] \n"
          ]
        },
        {
          "output_type": "stream",
          "name": "stdout",
          "text": [
            "Extracting ./data/cifar-10-python.tar.gz to ./data\n"
          ]
        }
      ]
    },
    {
      "cell_type": "code",
      "source": [
        "# creating a convolution\n",
        "\n",
        "conv = nn.Conv2d(3,16,kernel_size = 3, padding = 1)\n",
        "conv,conv.weight.shape,conv.bias.shape\n",
        "\n",
        "# setting the bias to zero\n",
        "\n",
        "with torch.no_grad():\n",
        "  conv.bias.zero_()\n",
        "\n",
        "# setting the weight to 1/9, we could've just put one that would result in each pixel in the output being the sum of the pixels in the neighbourhood\n",
        "\n",
        "with torch.no_grad():\n",
        "  conv.weight.fill_(1.0/9.0)"
      ],
      "metadata": {
        "id": "qg_zjEHe8xH3"
      },
      "execution_count": 5,
      "outputs": []
    },
    {
      "cell_type": "markdown",
      "source": [
        "For now, we will convert an individual image from the CIFAR10 dataset to a tensor."
      ],
      "metadata": {
        "id": "TAG5Z0Y6I4vH"
      }
    },
    {
      "cell_type": "code",
      "source": [
        "img, _ = cif10[0]\n",
        "img.size, type(img)"
      ],
      "metadata": {
        "colab": {
          "base_uri": "https://localhost:8080/"
        },
        "id": "AJayal3dPnd4",
        "outputId": "af6d85af-7253-432d-9948-b5a8ec5e5239"
      },
      "execution_count": 6,
      "outputs": [
        {
          "output_type": "execute_result",
          "data": {
            "text/plain": [
              "((32, 32), PIL.Image.Image)"
            ]
          },
          "metadata": {},
          "execution_count": 6
        }
      ]
    },
    {
      "cell_type": "code",
      "source": [
        "plt.imshow(img)\n",
        "plt.show()"
      ],
      "metadata": {
        "colab": {
          "base_uri": "https://localhost:8080/",
          "height": 430
        },
        "id": "ducdOVwEt2wv",
        "outputId": "72b4e3f4-0ee7-4b30-e95c-eb12554f4729"
      },
      "execution_count": 7,
      "outputs": [
        {
          "output_type": "display_data",
          "data": {
            "text/plain": [
              "<Figure size 640x480 with 1 Axes>"
            ],
            "image/png": "[encoded data removed]"
          },
          "metadata": {}
        }
      ]
    },
    {
      "cell_type": "code",
      "source": [
        "to_tensor = transforms.ToTensor()\n",
        "img_t = to_tensor(img)\n",
        "img_t.shape"
      ],
      "metadata": {
        "colab": {
          "base_uri": "https://localhost:8080/"
        },
        "id": "rjYmFt0yVQHf",
        "outputId": "ffdded5e-9294-45b2-83b9-bea069bf8e73"
      },
      "execution_count": 8,
      "outputs": [
        {
          "output_type": "execute_result",
          "data": {
            "text/plain": [
              "torch.Size([3, 32, 32])"
            ]
          },
          "metadata": {},
          "execution_count": 8
        }
      ]
    },
    {
      "cell_type": "code",
      "source": [
        "# applying the convolution and getting the output\n",
        "\n",
        "output = conv(img_t.unsqueeze(0))\n",
        "img_t.unsqueeze(0), output.shape"
      ],
      "metadata": {
        "colab": {
          "base_uri": "https://localhost:8080/"
        },
        "id": "0bXLVwQQWYrf",
        "outputId": "31152e4c-951d-4998-85b3-7779155f90d4"
      },
      "execution_count": 9,
      "outputs": [
        {
          "output_type": "execute_result",
          "data": {
            "text/plain": [
              "(tensor([[[[0.2314, 0.1686, 0.1961,  ..., 0.6196, 0.5961, 0.5804],\n",
              "           [0.0627, 0.0000, 0.0706,  ..., 0.4824, 0.4667, 0.4784],\n",
              "           [0.0980, 0.0627, 0.1922,  ..., 0.4627, 0.4706, 0.4275],\n",
              "           ...,\n",
              "           [0.8157, 0.7882, 0.7765,  ..., 0.6275, 0.2196, 0.2078],\n",
              "           [0.7059, 0.6784, 0.7294,  ..., 0.7216, 0.3804, 0.3255],\n",
              "           [0.6941, 0.6588, 0.7020,  ..., 0.8471, 0.5922, 0.4824]],\n",
              " \n",
              "          [[0.2431, 0.1804, 0.1882,  ..., 0.5176, 0.4902, 0.4863],\n",
              "           [0.0784, 0.0000, 0.0314,  ..., 0.3451, 0.3255, 0.3412],\n",
              "           [0.0941, 0.0275, 0.1059,  ..., 0.3294, 0.3294, 0.2863],\n",
              "           ...,\n",
              "           [0.6667, 0.6000, 0.6314,  ..., 0.5216, 0.1216, 0.1333],\n",
              "           [0.5451, 0.4824, 0.5647,  ..., 0.5804, 0.2431, 0.2078],\n",
              "           [0.5647, 0.5059, 0.5569,  ..., 0.7216, 0.4627, 0.3608]],\n",
              " \n",
              "          [[0.2471, 0.1765, 0.1686,  ..., 0.4235, 0.4000, 0.4039],\n",
              "           [0.0784, 0.0000, 0.0000,  ..., 0.2157, 0.1961, 0.2235],\n",
              "           [0.0824, 0.0000, 0.0314,  ..., 0.1961, 0.1961, 0.1647],\n",
              "           ...,\n",
              "           [0.3765, 0.1333, 0.1020,  ..., 0.2745, 0.0275, 0.0784],\n",
              "           [0.3765, 0.1647, 0.1176,  ..., 0.3686, 0.1333, 0.1333],\n",
              "           [0.4549, 0.3686, 0.3412,  ..., 0.5490, 0.3294, 0.2824]]]]),\n",
              " torch.Size([1, 16, 32, 32]))"
            ]
          },
          "metadata": {},
          "execution_count": 9
        }
      ]
    },
    {
      "cell_type": "code",
      "source": [
        "plt.imshow(output[0,0].detach(), cmap = 'gray')\n",
        "plt.show()"
      ],
      "metadata": {
        "id": "P1a7EqBoixE_",
        "colab": {
          "base_uri": "https://localhost:8080/",
          "height": 430
        },
        "outputId": "d10bb157-9699-4e06-8d83-bf504a12e546"
      },
      "execution_count": 10,
      "outputs": [
        {
          "output_type": "display_data",
          "data": {
            "text/plain": [
              "<Figure size 640x480 with 1 Axes>"
            ],
            "image/png": "[encoded data removed]"
          },
          "metadata": {}
        }
      ]
    },
    {
      "cell_type": "markdown",
      "source": [
        "This filter produces a blurred version of the image. Every pixel of the output is the average of a neighbourhood of the input, so pixels in the output are correlated and change more smoothly.\n",
        "\n",
        "Now let's try a different kernel"
      ],
      "metadata": {
        "id": "1Dt0oHBeuF5-"
      }
    },
    {
      "cell_type": "code",
      "source": [
        "conv1 = nn.Conv2d(3,1,kernel_size=3,padding=1)"
      ],
      "metadata": {
        "id": "XbyrTP0MtsP_"
      },
      "execution_count": 11,
      "outputs": []
    },
    {
      "cell_type": "code",
      "source": [
        "with torch.no_grad():\n",
        "  # establishing the weight (kernel)\n",
        "  conv1.weight[:] = torch.tensor([[-1.0,0.0,1.0],\n",
        "                                  [-1.0,0.0,1.0],\n",
        "                                  [-1.0,0.0,1.0]])\n",
        "\n",
        "  conv1.bias.zero_()"
      ],
      "metadata": {
        "id": "cnjy86RcumxP"
      },
      "execution_count": 12,
      "outputs": []
    },
    {
      "cell_type": "code",
      "source": [
        "output_1 = conv1(img_t.unsqueeze(0))\n",
        "output_1.shape"
      ],
      "metadata": {
        "colab": {
          "base_uri": "https://localhost:8080/"
        },
        "id": "nJy4si1Ru3qj",
        "outputId": "ddae59dd-d15a-45eb-ac71-58111e84d791"
      },
      "execution_count": 13,
      "outputs": [
        {
          "output_type": "execute_result",
          "data": {
            "text/plain": [
              "torch.Size([1, 1, 32, 32])"
            ]
          },
          "metadata": {},
          "execution_count": 13
        }
      ]
    },
    {
      "cell_type": "code",
      "source": [
        "plt.imshow(output_1[0,0].detach(), cmap='gray')\n",
        "plt.show()"
      ],
      "metadata": {
        "colab": {
          "base_uri": "https://localhost:8080/",
          "height": 430
        },
        "id": "0V7ViBIbvLKX",
        "outputId": "ea2a7e29-4f00-4159-fd0e-8ac12fe5a930"
      },
      "execution_count": 14,
      "outputs": [
        {
          "output_type": "display_data",
          "data": {
            "text/plain": [
              "<Figure size 640x480 with 1 Axes>"
            ],
            "image/png": "[encoded data removed]"
          },
          "metadata": {}
        }
      ]
    },
    {
      "cell_type": "markdown",
      "source": [
        "It’s an edge-detection kernel: the kernel highlights the\n",
        "vertical edge between two horizontally adjacent regions."
      ],
      "metadata": {
        "id": "huabeVN0y-2w"
      }
    },
    {
      "cell_type": "markdown",
      "source": [
        "We can make our own nn.Module subclasses that we can just use like prebuilt ones or nn.Sequential. This gives us added flexibility. We define a forward funciton which can define our module's computation. To include submodules, we define them in the constructor __init__ and assign them to self for use in the forward function. They will, at the\n",
        "same time, hold their parameters throughout the lifetime of our module. Note that you\n",
        "need to call super().__init__() before you can do that (or PyTorch will remind you)"
      ],
      "metadata": {
        "id": "V8amJNU-F7c-"
      }
    },
    {
      "cell_type": "code",
      "source": [
        "# defining our own subclass\n",
        "\n",
        "class Net(nn.Module):\n",
        "  def __init__(self):\n",
        "    super().__init__()\n",
        "    self.conv1 = nn.Conv2d(3, 16, kernel_size=3, padding=1)\n",
        "    self.act1 = nn.Tanh()\n",
        "    self.pool1 = nn.MaxPool2d(2)\n",
        "    self.conv2 = nn.Conv2d(16, 8, kernel_size=3, padding =1)\n",
        "    self.act2 = nn.Tanh()\n",
        "    self.pool2 = nn.MaxPool2d(2)\n",
        "    self.fc1 = nn.Linear(8*8*8, 32)\n",
        "    self.act3 = nn.Tanh()\n",
        "    self.fc2 = nn.Linear(32, 2)\n",
        "\n",
        "\n",
        "  def forward(self,x):\n",
        "    out = self.pool1(self.act1(self.conv1(x)))\n",
        "    out = self.pool2(self.act2(self.conv2(out)))\n",
        "    out = out.view(-1, 8*8*8)\n",
        "    out = self.act3(self.fc1(out))\n",
        "    out = self.fc2(out)\n",
        "\n",
        "    return out"
      ],
      "metadata": {
        "id": "3Y8Bs1MCHkdy"
      },
      "execution_count": 15,
      "outputs": []
    },
    {
      "cell_type": "code",
      "source": [
        "model = Net()\n",
        "\n",
        "numel_list = [p.numel() for p in model.parameters()]\n",
        "sum(numel_list), numel_list"
      ],
      "metadata": {
        "colab": {
          "base_uri": "https://localhost:8080/"
        },
        "id": "5gXZt0xwYV3N",
        "outputId": "2c22e29d-4f42-45f8-fcaf-fd3a84432875"
      },
      "execution_count": 16,
      "outputs": [
        {
          "output_type": "execute_result",
          "data": {
            "text/plain": [
              "(18090, [432, 16, 1152, 8, 16384, 32, 64, 2])"
            ]
          },
          "metadata": {},
          "execution_count": 16
        }
      ]
    },
    {
      "cell_type": "markdown",
      "source": [
        "It is bit of a waste when we register submodules like Tanh() which don't have any input parameters. We can directly call them in the forward function.\n",
        "\n",
        "For this, Pytorch has a functional counterpart which solely depends on the value input arguments. Hence we can re-write the subclass again."
      ],
      "metadata": {
        "id": "hUEAXG98vwOi"
      }
    },
    {
      "cell_type": "code",
      "source": [
        "import torch.nn.functional as F"
      ],
      "metadata": {
        "id": "bH54_ON5agE8"
      },
      "execution_count": 17,
      "outputs": []
    },
    {
      "cell_type": "code",
      "source": [
        "class Net(nn.Module):\n",
        "  def __init__(self):\n",
        "    super().__init__()\n",
        "    self.conv1 = nn.Conv2d(3,16,kernel_size=3,padding=1)\n",
        "    self.conv2 = nn.Conv2d(16,8,kernel_size=3,padding=1)\n",
        "    self.fc1 = nn.Linear(8*8*8,32)\n",
        "    self.fc2 = nn.Linear(32,2)\n",
        "\n",
        "  def forward(self,x):\n",
        "    out = F.max_pool2d(torch.tanh(self.conv1(x)),2)\n",
        "    out = F.max_pool2d(torch.tanh(self.conv2(out)),2)\n",
        "    out = out.view(-1,8*8*8)\n",
        "    out = torch.tanh(self.fc1(out))\n",
        "    out = self.fc2(out)\n",
        "\n",
        "    return out"
      ],
      "metadata": {
        "id": "Ax6UcIKSwcLU"
      },
      "execution_count": 18,
      "outputs": []
    },
    {
      "cell_type": "code",
      "source": [
        "model = Net()\n",
        "model(img_t.unsqueeze(0))"
      ],
      "metadata": {
        "colab": {
          "base_uri": "https://localhost:8080/"
        },
        "id": "5opanDH-yr71",
        "outputId": "257d642e-e211-4c27-9c86-b85066ecae2a"
      },
      "execution_count": 19,
      "outputs": [
        {
          "output_type": "execute_result",
          "data": {
            "text/plain": [
              "tensor([[-0.1373, -0.1901]], grad_fn=<AddmmBackward0>)"
            ]
          },
          "metadata": {},
          "execution_count": 19
        }
      ]
    },
    {
      "cell_type": "code",
      "source": [],
      "metadata": {
        "id": "Hbz9PEqz0QXY"
      },
      "execution_count": null,
      "outputs": []
    }
  ]
}